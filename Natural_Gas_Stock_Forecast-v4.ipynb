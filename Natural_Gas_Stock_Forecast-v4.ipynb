{
 "cells": [
  {
   "cell_type": "markdown",
   "id": "5b8fbb8b",
   "metadata": {},
   "source": [
    "# 0. Import Dependencies"
   ]
  },
  {
   "cell_type": "code",
   "execution_count": 1,
   "id": "57f7b2aa",
   "metadata": {},
   "outputs": [
    {
     "name": "stdout",
     "output_type": "stream",
     "text": [
      "All libraries loaded\n"
     ]
    }
   ],
   "source": [
    "import numpy as np\n",
    "\n",
    "import torch\n",
    "import torch.nn as nn\n",
    "import torch.nn.functional as F\n",
    "import torch.optim as optim\n",
    "from torch.utils.data import Dataset\n",
    "from torch.utils.data import TensorDataset, DataLoader\n",
    "from torch.autograd import Variable \n",
    "\n",
    "import matplotlib.pyplot as plt\n",
    "from matplotlib.pyplot import figure\n",
    "from matplotlib.dates import DateFormatter\n",
    "import matplotlib.dates as mdate\n",
    "\n",
    "from alpha_vantage.timeseries import TimeSeries \n",
    "\n",
    "from neuralprophet import NeuralProphet\n",
    "import pandas as pd\n",
    "import datetime as dt\n",
    "import requests\n",
    "\n",
    "from sklearn.metrics import mean_squared_error, mean_absolute_error\n",
    "\n",
    "print(\"All libraries loaded\")"
   ]
  },
  {
   "cell_type": "markdown",
   "id": "20bc60ac",
   "metadata": {},
   "source": [
    "# 1. Set Data Configuration"
   ]
  },
  {
   "cell_type": "code",
   "execution_count": 2,
   "id": "63a61aa4",
   "metadata": {},
   "outputs": [],
   "source": [
    "config = {\n",
    "    \"alpha_vantage\": {\n",
    "        \"key\": \"0FZBV3K8TP7HOLZM\", # Claim your free API key here: https://www.alphavantage.co/support/#api-key\n",
    "        \"symbol\": \"FTXN\", # First Trust Nasdaq Oil & Gas ETF\n",
    "        \"outputsize\": \"full\",\n",
    "        \"key_close\": \"4. close\", # changed\n",
    "    },\n",
    "    \"data\": {\n",
    "        \"window_size\": 10,\n",
    "        \"train_split_size\": 0.80,\n",
    "    }, \n",
    "    \"plots\": {\n",
    "        \"xticks_interval\": 6, # show a date every _ months\n",
    "        \"color_actual\": \"#001f3f\",\n",
    "        \"color_train\": \"#3D9970\",\n",
    "        \"color_val\": \"#0074D9\",\n",
    "        \"color_pred_train\": \"#3D9970\",\n",
    "        \"color_pred_val\": \"#0074D9\",\n",
    "        \"color_pred_test\": \"#FF4136\",\n",
    "    },\n",
    "    \"model\": {\n",
    "        \"input_size\": 1, # since we are only using 1 feature, close price\n",
    "        \"num_lstm_layers\": 1, # 2\n",
    "        \"lstm_size\": 8, # 32\n",
    "        \"dropout\": 0.2,\n",
    "        \"patience\": 50,\n",
    "    },\n",
    "    \"training\": {\n",
    "        \"device\": \"cpu\", # \"cuda\" or \"cpu\"\n",
    "        \"batch_size\": 32,\n",
    "        \"num_epoch\": 1000,\n",
    "        \"learning_rate\": 0.01,\n",
    "        \"scheduler_step_size\": 50,\n",
    "    }\n",
    "}"
   ]
  },
  {
   "cell_type": "markdown",
   "id": "3d543609",
   "metadata": {},
   "source": [
    "# 2. Download Data"
   ]
  },
  {
   "cell_type": "code",
   "execution_count": 3,
   "id": "ac1fb497",
   "metadata": {},
   "outputs": [],
   "source": [
    "def download_data(url, name='', usecols=None, sheet_name=1, header=2, plot=False): \n",
    "    global config\n",
    "    \n",
    "    r = requests.get(url)\n",
    "    open('temp.xls', 'wb').write(r.content)\n",
    "    df = pd.read_excel('temp.xls', sheet_name=sheet_name, header=header, usecols=usecols) \n",
    "    df = df[~df.isnull().any(axis=1)] # remove rows with any missing data\n",
    "    \n",
    "#     if (url.split('.xls')[0][-1] == 'm') or (url.split('.xls')[0][-1] == 'M'):\n",
    "#         df['Date'] = df['Date'].dt.strftime('%Y-%m') # convert datetime to year+month\n",
    "#     elif (url.split('.xls')[0][-1] == 'w') or (url.split('.xls')[0][-1] == 'W'):\n",
    "#         df['Date'] = df['Date'].dt.strftime('%Y-%m-%d') # convert datetime to year+month+day\n",
    "#         config[\"plots\"][\"xticks_interval\"] = config[\"plots\"][\"xticks_interval\"]*4\n",
    "        \n",
    "    # df['Date'] = df['Date'].dt.date\n",
    "       \n",
    "    num_data_points = len(df) # df.count(axis = 0)\n",
    "    \n",
    "    df2 = df.iloc[[0, -1]]    \n",
    "    date_range = \"from \" + str(df2.iloc[0,0]) + \" to \" + str(df2.iloc[1,0])\n",
    "    print(date_range, str(num_data_points) + ' Data Points')\n",
    "    \n",
    "    data_dict = {}\n",
    "    data_dict['data'] = df.rename(columns={df.keys()[0]: 'date', \n",
    "                            df.keys()[1]: name})\n",
    "    data_dict['num elements'] = num_data_points\n",
    "    data_dict['date range'] = date_range\n",
    "    data_dict['name'] = df.keys()[1]\n",
    "    \n",
    "    if plot:\n",
    "        fig = figure(figsize=(25, 5), dpi=80)\n",
    "        fig.patch.set_facecolor((1.0, 1.0, 1.0))\n",
    "        plt.plot(data_dict['data']['date'], data_dict['data'][name], color=config[\"plots\"][\"color_actual\"])\n",
    "        plt.title(data_dict['name'] + \", \" + data_dict['date range'] + \", \" + str(data_dict['num elements']) + \" Data Points\")\n",
    "\n",
    "#         xticks = [data_dict['data'].iloc[i,0] if ((i%config[\"plots\"][\"xticks_interval\"]==0 and (data_dict['num elements']-i) > config[\"plots\"][\"xticks_interval\"]) or i==data_dict['num elements']-1) else None for i in range(data_dict['num elements'])] # make x ticks nice\n",
    "#         x = np.arange(0,len(xticks))\n",
    "#         plt.xticks(x, xticks, rotation='vertical')\n",
    "\n",
    "        # Format the x axis\n",
    "        locator = mdate.MonthLocator(interval=config[\"plots\"][\"xticks_interval\"])\n",
    "        fmt = mdate.DateFormatter('%Y-%m')\n",
    "        X = plt.gca().xaxis\n",
    "        X.set_major_locator(locator)\n",
    "        # Specify formatter\n",
    "        X.set_major_formatter(fmt)\n",
    "        plt.xticks(rotation='vertical')\n",
    "        plt.xlim([data_dict['data'].iloc[0,0], data_dict['data'].iloc[-1,0]])\n",
    "\n",
    "        plt.grid(visible=None, which='major', axis='y', linestyle='--')\n",
    "        plt.show()\n",
    "         \n",
    "    return data_dict"
   ]
  },
  {
   "cell_type": "code",
   "execution_count": 4,
   "id": "c8c5456c",
   "metadata": {},
   "outputs": [],
   "source": [
    "plot = False"
   ]
  },
  {
   "cell_type": "markdown",
   "id": "05d2b7fb",
   "metadata": {},
   "source": [
    "## 2a. Seattle Gas Prices (targets)"
   ]
  },
  {
   "cell_type": "code",
   "execution_count": 5,
   "id": "a5a97ad9",
   "metadata": {},
   "outputs": [
    {
     "name": "stdout",
     "output_type": "stream",
     "text": [
      "from 2003-05-26 00:00:00 to 2022-07-04 00:00:00 998 Data Points\n",
      "        date  gas price\n",
      "0 2003-05-26      1.534\n",
      "1 2003-06-02      1.524\n",
      "2 2003-06-09      1.522\n",
      "3 2003-06-16      1.578\n",
      "4 2003-06-23      1.580\n"
     ]
    }
   ],
   "source": [
    "seattle_gas_prices = download_data('https://www.eia.gov/dnav/pet/hist_xls/EMM_EPMRU_PTE_Y48SE_DPGw.xls', \n",
    "                                   name='gas price',\n",
    "                                  plot=plot)\n",
    "\n",
    "print(seattle_gas_prices['data'].head())"
   ]
  },
  {
   "cell_type": "markdown",
   "id": "c17bc0d8",
   "metadata": {},
   "source": [
    "## 2b. U.S. Crude Oil Stock Change (feature 1)"
   ]
  },
  {
   "cell_type": "code",
   "execution_count": 6,
   "id": "042586b7",
   "metadata": {},
   "outputs": [
    {
     "name": "stdout",
     "output_type": "stream",
     "text": [
      "from 1981-01-15 00:00:00 to 2022-04-15 00:00:00 496 Data Points\n",
      "        date  oil stock exchange\n",
      "0 1981-01-15               -1535\n",
      "1 1981-02-15                7773\n",
      "2 1981-03-15               19596\n",
      "3 1981-04-15               17853\n",
      "4 1981-05-15               12109\n"
     ]
    }
   ],
   "source": [
    "us_oil_stock = download_data('https://www.eia.gov/dnav/pet/hist_xls/MCRSCUS1m.xls',\n",
    "                             name='oil stock exchange',\n",
    "                             plot=plot)\n",
    "\n",
    "print(us_oil_stock['data'].head())"
   ]
  },
  {
   "cell_type": "markdown",
   "id": "2d858570",
   "metadata": {},
   "source": [
    "## 2c. U.S. Natural Gas Rotary Rigs in Operation (feature 2)"
   ]
  },
  {
   "cell_type": "code",
   "execution_count": 7,
   "id": "267026d9",
   "metadata": {},
   "outputs": [
    {
     "name": "stdout",
     "output_type": "stream",
     "text": [
      "from 1987-08-15 00:00:00 to 2022-03-15 00:00:00 416 Data Points\n",
      "          date  drilling activity\n",
      "175 1987-08-15              352.0\n",
      "176 1987-09-15              364.0\n",
      "177 1987-10-15              377.0\n",
      "178 1987-11-15              386.0\n",
      "179 1987-12-15              403.0\n"
     ]
    }
   ],
   "source": [
    "us_drilling_activity = download_data('https://www.eia.gov/dnav/pet/hist_xls/E_ERTRRG_XR0_NUS_Cm.xls',\n",
    "                             name='drilling activity',\n",
    "                             plot=plot)\n",
    "\n",
    "print(us_drilling_activity['data'].head())"
   ]
  },
  {
   "cell_type": "markdown",
   "id": "49016f48",
   "metadata": {},
   "source": [
    "## 2d. U.S. Natural Gas Production (feature 3)"
   ]
  },
  {
   "cell_type": "code",
   "execution_count": 8,
   "id": "d26eb698",
   "metadata": {},
   "outputs": [
    {
     "name": "stdout",
     "output_type": "stream",
     "text": [
      "from 1973-01-15 00:00:00 to 2022-04-15 00:00:00 592 Data Points\n",
      "        date  gas production\n",
      "0 1973-01-15         1948000\n",
      "1 1973-02-15         1962000\n",
      "2 1973-03-15         1907000\n",
      "3 1973-04-15         1814000\n",
      "4 1973-05-15         1898000\n"
     ]
    }
   ],
   "source": [
    "us_gas_production = download_data('https://www.eia.gov/dnav/ng/hist_xls/N9050US2m.xls',\n",
    "                             name='gas production',\n",
    "                             plot=plot)\n",
    "\n",
    "print(us_gas_production['data'].head())"
   ]
  },
  {
   "cell_type": "markdown",
   "id": "767648b4",
   "metadata": {},
   "source": [
    "## 2e. U.S. Natural Gas Consumption (feature 4)"
   ]
  },
  {
   "cell_type": "code",
   "execution_count": 9,
   "id": "65af769e",
   "metadata": {},
   "outputs": [
    {
     "name": "stdout",
     "output_type": "stream",
     "text": [
      "from 2001-01-15 00:00:00 to 2022-04-15 00:00:00 256 Data Points\n",
      "        date  gas consumption\n",
      "0 2001-01-15          2676998\n",
      "1 2001-02-15          2309464\n",
      "2 2001-03-15          2246633\n",
      "3 2001-04-15          1807170\n",
      "4 2001-05-15          1522382\n"
     ]
    }
   ],
   "source": [
    "us_gas_consumption = download_data('https://www.eia.gov/dnav/ng/hist_xls/N9140US2m.xls',\n",
    "                             name='gas consumption',\n",
    "                             plot=plot)\n",
    "\n",
    "print(us_gas_consumption['data'].head())"
   ]
  },
  {
   "cell_type": "markdown",
   "id": "7bebcfd8",
   "metadata": {},
   "source": [
    "## 2f. Underground Natural Gas Storage Capacity (feature 5)"
   ]
  },
  {
   "cell_type": "code",
   "execution_count": 10,
   "id": "0662a24f",
   "metadata": {},
   "outputs": [
    {
     "name": "stdout",
     "output_type": "stream",
     "text": [
      "from 1989-01-15 00:00:00 to 2022-04-15 00:00:00 400 Data Points\n",
      "        date  gas storage\n",
      "0 1989-01-15      8119368\n",
      "1 1989-02-15      8119368\n",
      "2 1989-03-15      8119368\n",
      "3 1989-04-15      8119368\n",
      "4 1989-05-15      8119368\n"
     ]
    }
   ],
   "source": [
    "us_gas_storage = download_data('https://www.eia.gov/dnav/ng/xls/NG_STOR_CAP_DCU_NUS_M.xls',\n",
    "                             name='gas storage',\n",
    "                               usecols='A:B',\n",
    "                             plot=plot)\n",
    "\n",
    "print(us_gas_storage['data'].head())"
   ]
  },
  {
   "cell_type": "markdown",
   "id": "72413773",
   "metadata": {},
   "source": [
    "## 2g. U.S. Natural Gas Import Volumes (feature 6)"
   ]
  },
  {
   "cell_type": "code",
   "execution_count": 11,
   "id": "446c7a1f",
   "metadata": {},
   "outputs": [
    {
     "name": "stdout",
     "output_type": "stream",
     "text": [
      "from 1973-01-15 00:00:00 to 2022-04-15 00:00:00 592 Data Points\n",
      "        date  gas import volume\n",
      "0 1973-01-15              92694\n",
      "1 1973-02-15              83870\n",
      "2 1973-03-15              91581\n",
      "3 1973-04-15              88407\n",
      "4 1973-05-15              85844\n"
     ]
    }
   ],
   "source": [
    "us_gas_import_volume = download_data('https://www.eia.gov/dnav/ng/xls/NG_MOVE_IMPC_S1_M.xls',\n",
    "                             name='gas import volume',\n",
    "                               usecols='A:B',\n",
    "                               sheet_name=1,\n",
    "                             plot=plot)\n",
    "\n",
    "print(us_gas_import_volume['data'].head())"
   ]
  },
  {
   "cell_type": "markdown",
   "id": "c7aac1c0",
   "metadata": {},
   "source": [
    "## 2g. U.S. Natural Gas Import Prices (feature 7)"
   ]
  },
  {
   "cell_type": "code",
   "execution_count": 12,
   "id": "45c2aea6",
   "metadata": {},
   "outputs": [
    {
     "name": "stdout",
     "output_type": "stream",
     "text": [
      "from 1989-01-15 00:00:00 to 2022-04-15 00:00:00 400 Data Points\n",
      "        date  gas import price\n",
      "0 1989-01-15              1.72\n",
      "1 1989-02-15              1.88\n",
      "2 1989-03-15              1.81\n",
      "3 1989-04-15              1.73\n",
      "4 1989-05-15              1.76\n"
     ]
    }
   ],
   "source": [
    "us_gas_import_price = download_data('https://www.eia.gov/dnav/ng/xls/NG_MOVE_IMPC_S1_M.xls',\n",
    "                             name='gas import price',\n",
    "                               usecols='A:B',\n",
    "                               sheet_name=2,\n",
    "                             plot=plot)\n",
    "\n",
    "print(us_gas_import_price['data'].head())"
   ]
  },
  {
   "cell_type": "markdown",
   "id": "b79a9cbc",
   "metadata": {},
   "source": [
    "## 2h. Henry Hub Natural Gas Spot Price (feature 8)"
   ]
  },
  {
   "cell_type": "code",
   "execution_count": 13,
   "id": "d11a613e",
   "metadata": {},
   "outputs": [
    {
     "name": "stdout",
     "output_type": "stream",
     "text": [
      "from 1997-01-15 00:00:00 to 2022-06-15 00:00:00 306 Data Points\n",
      "        date  natural gas price\n",
      "0 1997-01-15               3.45\n",
      "1 1997-02-15               2.15\n",
      "2 1997-03-15               1.89\n",
      "3 1997-04-15               2.03\n",
      "4 1997-05-15               2.25\n"
     ]
    }
   ],
   "source": [
    "hh_natural_gas_price = download_data('https://www.eia.gov/dnav/ng/hist_xls/RNGWHHDm.xls',\n",
    "                             name='natural gas price',\n",
    "                             plot=plot)\n",
    "\n",
    "print(hh_natural_gas_price['data'].head())"
   ]
  },
  {
   "cell_type": "markdown",
   "id": "2f7cde92",
   "metadata": {},
   "source": [
    "## 2i. Crude Oil Sport Price (feature 9)"
   ]
  },
  {
   "cell_type": "code",
   "execution_count": 14,
   "id": "ee5825cc",
   "metadata": {},
   "outputs": [
    {
     "name": "stdout",
     "output_type": "stream",
     "text": [
      "from 1986-01-15 00:00:00 to 2022-06-15 00:00:00 438 Data Points\n",
      "        date  crude oil price\n",
      "0 1986-01-15            22.93\n",
      "1 1986-02-15            15.46\n",
      "2 1986-03-15            12.61\n",
      "3 1986-04-15            12.84\n",
      "4 1986-05-15            15.38\n"
     ]
    }
   ],
   "source": [
    "us_crude_oil_price = download_data('https://www.eia.gov/dnav/pet/xls/PET_PRI_SPT_S1_M.xls',\n",
    "                                   name='crude oil price',\n",
    "                                   usecols='A:B',\n",
    "                                   sheet_name=1, \n",
    "                                   plot=plot)\n",
    "\n",
    "print(us_crude_oil_price['data'].head())"
   ]
  },
  {
   "cell_type": "markdown",
   "id": "333d2dc1",
   "metadata": {},
   "source": [
    "## 2j. Conventional Gasoline Price (feature 10)"
   ]
  },
  {
   "cell_type": "code",
   "execution_count": 15,
   "id": "a3f83b58",
   "metadata": {},
   "outputs": [
    {
     "name": "stdout",
     "output_type": "stream",
     "text": [
      "from 1986-06-15 00:00:00 to 2022-06-15 00:00:00 433 Data Points\n",
      "        date  conventional gas price\n",
      "0 1986-06-15                   0.420\n",
      "1 1986-07-15                   0.340\n",
      "2 1986-08-15                   0.426\n",
      "3 1986-09-15                   0.420\n",
      "4 1986-10-15                   0.410\n"
     ]
    }
   ],
   "source": [
    "us_gas_price = download_data('https://www.eia.gov/dnav/pet/xls/PET_PRI_SPT_S1_M.xls',\n",
    "                                   name='conventional gas price',\n",
    "                                   usecols='A:B',\n",
    "                                   sheet_name=2, \n",
    "                                   plot=plot)\n",
    "\n",
    "print(us_gas_price['data'].head())"
   ]
  },
  {
   "cell_type": "markdown",
   "id": "aa822b0c",
   "metadata": {},
   "source": [
    "## 2k. RBOB Gasoline Price (feature 11)"
   ]
  },
  {
   "cell_type": "code",
   "execution_count": 16,
   "id": "8ab32511",
   "metadata": {},
   "outputs": [
    {
     "name": "stdout",
     "output_type": "stream",
     "text": [
      "from 2003-06-15 00:00:00 to 2022-06-15 00:00:00 229 Data Points\n",
      "        date  rbob gas price\n",
      "0 2003-06-15           1.072\n",
      "1 2003-07-15           0.965\n",
      "2 2003-08-15           1.315\n",
      "3 2003-09-15           0.949\n",
      "4 2003-10-15           0.996\n"
     ]
    }
   ],
   "source": [
    "us_rbob_price = download_data('https://www.eia.gov/dnav/pet/xls/PET_PRI_SPT_S1_M.xls',\n",
    "                                   name='rbob gas price',\n",
    "                                   usecols='A:B',\n",
    "                                   sheet_name=3, \n",
    "                                   plot=plot)\n",
    "\n",
    "print(us_rbob_price['data'].head())"
   ]
  },
  {
   "cell_type": "markdown",
   "id": "f044bf2d",
   "metadata": {},
   "source": [
    "## 2l. Heating Oil Price (feature 12)"
   ]
  },
  {
   "cell_type": "code",
   "execution_count": 17,
   "id": "69327fc6",
   "metadata": {},
   "outputs": [
    {
     "name": "stdout",
     "output_type": "stream",
     "text": [
      "from 1986-06-15 00:00:00 to 2022-06-15 00:00:00 433 Data Points\n",
      "        date  heating oil price\n",
      "0 1986-06-15              0.380\n",
      "1 1986-07-15              0.334\n",
      "2 1986-08-15              0.408\n",
      "3 1986-09-15              0.402\n",
      "4 1986-10-15              0.394\n"
     ]
    }
   ],
   "source": [
    "us_heating_oil_price = download_data('https://www.eia.gov/dnav/pet/xls/PET_PRI_SPT_S1_M.xls',\n",
    "                                   name='heating oil price',\n",
    "                                   usecols='A:B',\n",
    "                                   sheet_name=4, \n",
    "                                   plot=plot)\n",
    "\n",
    "print(us_heating_oil_price['data'].head())"
   ]
  },
  {
   "cell_type": "markdown",
   "id": "070bd0b6",
   "metadata": {},
   "source": [
    "## 2m. Diesel Price (feature 13)"
   ]
  },
  {
   "cell_type": "code",
   "execution_count": 18,
   "id": "00abc95d",
   "metadata": {},
   "outputs": [
    {
     "name": "stdout",
     "output_type": "stream",
     "text": [
      "from 2006-06-15 00:00:00 to 2022-06-15 00:00:00 193 Data Points\n",
      "          date  diesel price\n",
      "122 2006-06-15         2.091\n",
      "123 2006-07-15         2.217\n",
      "124 2006-08-15         2.247\n",
      "125 2006-09-15         1.810\n",
      "126 2006-10-15         1.794\n"
     ]
    }
   ],
   "source": [
    "us_diesel_price = download_data('https://www.eia.gov/dnav/pet/xls/PET_PRI_SPT_S1_M.xls',\n",
    "                                   name='diesel price',\n",
    "                                   usecols='A:B',\n",
    "                                   sheet_name=5, \n",
    "                                   plot=plot)\n",
    "\n",
    "print(us_diesel_price['data'].head())"
   ]
  },
  {
   "cell_type": "markdown",
   "id": "2aeefb9c",
   "metadata": {},
   "source": [
    "## 2n. Kerosene Price (feature 14)"
   ]
  },
  {
   "cell_type": "code",
   "execution_count": 19,
   "id": "93c70717",
   "metadata": {},
   "outputs": [
    {
     "name": "stdout",
     "output_type": "stream",
     "text": [
      "from 1990-04-15 00:00:00 to 2022-06-15 00:00:00 387 Data Points\n",
      "        date  kerosene price\n",
      "0 1990-04-15           0.540\n",
      "1 1990-05-15           0.515\n",
      "2 1990-06-15           0.494\n",
      "3 1990-07-15           0.535\n",
      "4 1990-08-15           0.791\n"
     ]
    }
   ],
   "source": [
    "us_kerosene_price = download_data('https://www.eia.gov/dnav/pet/xls/PET_PRI_SPT_S1_M.xls',\n",
    "                                   name='kerosene price',\n",
    "                                   usecols='A:B',\n",
    "                                   sheet_name=6, \n",
    "                                   plot=plot)\n",
    "\n",
    "print(us_kerosene_price['data'].head())"
   ]
  },
  {
   "cell_type": "markdown",
   "id": "ee711930",
   "metadata": {},
   "source": [
    "## 2o. Propane Price (feature 15)"
   ]
  },
  {
   "cell_type": "code",
   "execution_count": 20,
   "id": "9feb3bdc",
   "metadata": {},
   "outputs": [
    {
     "name": "stdout",
     "output_type": "stream",
     "text": [
      "from 1992-06-15 00:00:00 to 2022-06-15 00:00:00 361 Data Points\n",
      "        date  propane price\n",
      "0 1992-06-15          0.344\n",
      "1 1992-07-15          0.342\n",
      "2 1992-08-15          0.354\n",
      "3 1992-09-15          0.375\n",
      "4 1992-10-15          0.354\n"
     ]
    }
   ],
   "source": [
    "us_propane_price = download_data('https://www.eia.gov/dnav/pet/xls/PET_PRI_SPT_S1_M.xls',\n",
    "                                   name='propane price',\n",
    "                                   usecols='A:B',\n",
    "                                   sheet_name=7, \n",
    "                                   plot=plot)\n",
    "\n",
    "print(us_propane_price['data'].head())"
   ]
  },
  {
   "cell_type": "markdown",
   "id": "0f13a328",
   "metadata": {},
   "source": [
    "# 3. Combine Feature and Target Data"
   ]
  },
  {
   "cell_type": "code",
   "execution_count": 21,
   "id": "3da1ff51",
   "metadata": {},
   "outputs": [
    {
     "name": "stdout",
     "output_type": "stream",
     "text": [
      "            natural gas price  crude oil price  conventional gas price  \\\n",
      "2006-06-19           6.204667        71.411333                2.087933   \n",
      "2006-06-26           6.195333        72.218667                2.128067   \n",
      "2006-07-03           6.186000        73.026000                2.168200   \n",
      "2006-07-10           6.176667        73.833333                2.208333   \n",
      "2006-07-17           6.232581        74.321613                2.224161   \n",
      "\n",
      "            rbob gas price  heating oil price  diesel price  kerosene price  \\\n",
      "2006-06-19        2.412600           1.926333      2.107800        2.090733   \n",
      "2006-06-26        2.432900           1.928667      2.137200        2.107767   \n",
      "2006-07-03        2.453200           1.931000      2.166600        2.124800   \n",
      "2006-07-10        2.473500           1.933333      2.196000        2.141833   \n",
      "2006-07-17        2.468774           1.938161      2.218935        2.152645   \n",
      "\n",
      "            propane price  oil stock exchange  drilling activity  \\\n",
      "2006-06-19       1.106067        -4598.933333        1376.400000   \n",
      "2006-06-26       1.121933        -4744.066667        1377.100000   \n",
      "2006-07-03       1.137800        -4889.200000        1377.800000   \n",
      "2006-07-10       1.153667        -5034.333333        1378.500000   \n",
      "2006-07-17       1.163258        -4727.161290        1381.451613   \n",
      "\n",
      "            gas production  gas consumption   gas storage  gas import volume  \\\n",
      "2006-06-19    1.618895e+06     1.578593e+06  8.247523e+06      351139.000000   \n",
      "2006-06-26    1.627353e+06     1.627092e+06  8.249157e+06      356466.000000   \n",
      "2006-07-03    1.635812e+06     1.675591e+06  8.250790e+06      361793.000000   \n",
      "2006-07-10    1.644271e+06     1.724091e+06  8.252423e+06      367120.000000   \n",
      "2006-07-17    1.650682e+06     1.758278e+06  8.253590e+06      370540.935484   \n",
      "\n",
      "            gas import price  week number  gas price  \n",
      "2006-06-19          5.846000         25.0      3.067  \n",
      "2006-06-26          5.874000         26.0      3.027  \n",
      "2006-07-03          5.902000         27.0      3.004  \n",
      "2006-07-10          5.930000         28.0      3.032  \n",
      "2006-07-17          6.000968         29.0      3.018  \n",
      "natural gas price         float64\n",
      "crude oil price           float64\n",
      "conventional gas price    float64\n",
      "rbob gas price            float64\n",
      "heating oil price         float64\n",
      "diesel price              float64\n",
      "kerosene price            float64\n",
      "propane price             float64\n",
      "oil stock exchange        float64\n",
      "drilling activity         float64\n",
      "gas production            float64\n",
      "gas consumption           float64\n",
      "gas storage               float64\n",
      "gas import volume         float64\n",
      "gas import price          float64\n",
      "week number               float64\n",
      "gas price                 float64\n",
      "dtype: object\n",
      "Number of data points: 838\n"
     ]
    }
   ],
   "source": [
    "feature_list = [hh_natural_gas_price['data'],\n",
    "                 us_crude_oil_price['data'],\n",
    "                 us_gas_price['data'],\n",
    "                 us_rbob_price['data'],\n",
    "                 us_heating_oil_price['data'],\n",
    "                 us_diesel_price['data'],\n",
    "                 us_kerosene_price['data'],\n",
    "                 us_propane_price['data'],\n",
    "                # \n",
    "                us_oil_stock['data'],\n",
    "                us_drilling_activity['data'],\n",
    "                us_gas_production['data'],\n",
    "                us_gas_consumption['data'],\n",
    "                us_gas_storage['data'],\n",
    "                us_gas_import_volume['data'],\n",
    "                us_gas_import_price['data']\n",
    "               ]\n",
    "\n",
    "# targets\n",
    "targets = seattle_gas_prices['data'].set_index('date')\n",
    "\n",
    "# reindex and concatenate features\n",
    "# kw = dict(method=\"time\", limit_direction=\"both\", limit_area=None)\n",
    "kw = dict(method=\"time\")\n",
    "feature = pd.DataFrame(feature_list[0]).set_index('date')\n",
    "features = feature.reindex(feature.index.union(targets.index)).interpolate(**kw).reindex(targets.index)\n",
    "for i in range(1, len(feature_list)):\n",
    "    feature = feature_list[i].set_index('date')\n",
    "    feature = feature.reindex(feature.index.union(targets.index)).interpolate(**kw).reindex(targets.index)\n",
    "    features = features.join(feature)\n",
    "\n",
    "# add week number\n",
    "features['week number'] = features.index.isocalendar().week\n",
    "features['week number'] = features['week number'].astype(float)\n",
    "\n",
    "# add month\n",
    "# features = features.join(features.index.month)\n",
    "    \n",
    "# add targets\n",
    "features_targets = features.join(targets)\n",
    "\n",
    "# ========= TEST =============\n",
    "# feature_targets = targets\n",
    "# ============================\n",
    "\n",
    "# get rid of rows with missing data\n",
    "features_targets = features_targets[~features_targets.isnull().any(axis=1)]\n",
    "\n",
    "# convert datetimes to dates\n",
    "# print(features_targets.index)\n",
    "# features_targets['date'] = features_targets['date'].dt.date\n",
    "features_targets.index = features_targets.index.date\n",
    "\n",
    "# ========== Test ==============\n",
    "# features_targets = seattle_gas_prices['data'].set_index('date')\n",
    "# ==============================\n",
    "\n",
    "print(features_targets.head())\n",
    "print(features_targets.dtypes)\n",
    "\n",
    "# dates\n",
    "data_date = features_targets.index.tolist()\n",
    "\n",
    "# actual data\n",
    "data_price = features_targets.iloc[:,-1].to_numpy()\n",
    "\n",
    "# number of data points\n",
    "num_data_points = len(features_targets)\n",
    "print(f\"Number of data points: {num_data_points}\")\n",
    "\n",
    "# number of model inputs\n",
    "config[\"model\"][\"input_size\"] = len(features_targets.columns)"
   ]
  },
  {
   "cell_type": "code",
   "execution_count": 22,
   "id": "a10eca19",
   "metadata": {},
   "outputs": [],
   "source": [
    "# features_targets.plot(y=0)"
   ]
  },
  {
   "cell_type": "markdown",
   "id": "ab064a92",
   "metadata": {},
   "source": [
    "# 4. Standardize Data"
   ]
  },
  {
   "cell_type": "code",
   "execution_count": 23,
   "id": "fbe2b9fe",
   "metadata": {},
   "outputs": [],
   "source": [
    "class Standardizer():\n",
    "    def __init__(self):\n",
    "        self.mu = None\n",
    "        self.sd = None\n",
    "\n",
    "    def fit_transform(self, x):\n",
    "        self.mu = np.mean(x, axis=(0), keepdims=True)\n",
    "        self.sd = np.std(x, axis=(0), keepdims=True)\n",
    "        standardized_x = (x - self.mu)/self.sd\n",
    "        return standardized_x\n",
    "\n",
    "    def inverse_transform(self, x):\n",
    "        return (x*self.sd) + self.mu\n",
    "    \n",
    "    def inverse_transform_y(self, y):\n",
    "        return (y*self.sd[0,-1]) + self.mu[0,-1]"
   ]
  },
  {
   "cell_type": "code",
   "execution_count": 24,
   "id": "7f22116c",
   "metadata": {},
   "outputs": [],
   "source": [
    "class Normalizer():\n",
    "    def __init__(self):\n",
    "        self.max = None\n",
    "        self.min = None\n",
    "        self.range = None\n",
    "\n",
    "    def fit_transform(self, x):\n",
    "        self.max = np.max(x, axis=(0), keepdims=True)\n",
    "        self.min = np.min(x, axis=(0), keepdims=True)\n",
    "        self.range = self.max - self.min\n",
    "        normalized_x = (x - self.min)/self.range\n",
    "        return normalized_x\n",
    "\n",
    "    def inverse_transform(self, x):\n",
    "        return (x*self.range) + self.min\n",
    "    \n",
    "    def inverse_transform_y(self, y):\n",
    "        return (y*self.range[0,-1]) + self.min[0,-1]"
   ]
  },
  {
   "cell_type": "code",
   "execution_count": 25,
   "id": "d4b3a18e",
   "metadata": {},
   "outputs": [],
   "source": [
    "# normalize\n",
    "scaler = Standardizer()\n",
    "x = features_targets.values\n",
    "normalized_data = scaler.fit_transform(x)\n",
    "\n",
    "# normalized_data = features_targets.apply(lambda iterator: ((iterator - iterator.mean())/iterator.std()).round(2))\n",
    "# print(result)"
   ]
  },
  {
   "cell_type": "code",
   "execution_count": 26,
   "id": "945195db",
   "metadata": {},
   "outputs": [
    {
     "data": {
      "text/plain": [
       "<AxesSubplot:>"
      ]
     },
     "execution_count": 26,
     "metadata": {},
     "output_type": "execute_result"
    },
    {
     "data": {
      "image/png": "[encoded data removed]",
      "text/plain": [
       "<Figure size 432x288 with 1 Axes>"
      ]
     },
     "metadata": {
      "needs_background": "light"
     },
     "output_type": "display_data"
    }
   ],
   "source": [
    "tmp = pd.DataFrame(normalized_data)\n",
    "\n",
    "tmp.plot(y=normalized_data.shape[1]-1)"
   ]
  },
  {
   "cell_type": "markdown",
   "id": "efd95446",
   "metadata": {},
   "source": [
    "# 5. Generate Training and Validation Datasets"
   ]
  },
  {
   "cell_type": "code",
   "execution_count": 27,
   "id": "ea5a31f1",
   "metadata": {},
   "outputs": [],
   "source": [
    "def prepare_data_x(x, window_size):\n",
    "    # perform windowing\n",
    "    n_row = x.shape[0] - window_size + 1\n",
    "    output = np.lib.stride_tricks.as_strided(x, \n",
    "                                             shape=(n_row, window_size, config[\"model\"][\"input_size\"]), \n",
    "                                             strides=(x.strides[0], x.strides[0], x.strides[0]))\n",
    "    return output[:-1], output[-1]\n",
    "\n",
    "\n",
    "def prepare_data_y(x, window_size):\n",
    "    # # perform simple moving average\n",
    "    # output = np.convolve(x, np.ones(window_size), 'valid') / window_size\n",
    "\n",
    "    # use the next day as label\n",
    "    output = x[window_size:,-1] # last column = targets\n",
    "    return output"
   ]
  },
  {
   "cell_type": "code",
   "execution_count": 28,
   "id": "aaeca8a9",
   "metadata": {},
   "outputs": [
    {
     "name": "stdout",
     "output_type": "stream",
     "text": [
      "Train data shape (662, 10, 17) (662,)\n",
      "Validation data shape (166, 10, 17) (166,)\n"
     ]
    }
   ],
   "source": [
    "data_x, data_x_unseen = prepare_data_x(normalized_data, window_size=config[\"data\"][\"window_size\"])\n",
    "data_y = prepare_data_y(normalized_data, window_size=config[\"data\"][\"window_size\"])\n",
    "\n",
    "# split dataset\n",
    "\n",
    "split_index = int(data_y.shape[0]*config[\"data\"][\"train_split_size\"])\n",
    "data_x_train = data_x[:split_index]\n",
    "data_x_val = data_x[split_index:]\n",
    "data_y_train = data_y[:split_index]\n",
    "data_y_val = data_y[split_index:]\n",
    "\n",
    "print(\"Train data shape\", data_x_train.shape, data_y_train.shape)\n",
    "print(\"Validation data shape\", data_x_val.shape, data_y_val.shape)"
   ]
  },
  {
   "cell_type": "code",
   "execution_count": 29,
   "id": "d51e2bb5",
   "metadata": {},
   "outputs": [
    {
     "data": {
      "image/png": "[encoded data removed]",
      "text/plain": [
       "<Figure size 2000x400 with 1 Axes>"
      ]
     },
     "metadata": {},
     "output_type": "display_data"
    }
   ],
   "source": [
    "# prepare data for plotting\n",
    "\n",
    "to_plot_data_y_train = np.zeros(num_data_points)\n",
    "to_plot_data_y_val = np.zeros(num_data_points)\n",
    "\n",
    "to_plot_data_y_train[config[\"data\"][\"window_size\"]:split_index+config[\"data\"][\"window_size\"]] = scaler.inverse_transform_y(data_y_train)\n",
    "to_plot_data_y_val[split_index+config[\"data\"][\"window_size\"]:] = scaler.inverse_transform_y(data_y_val)\n",
    "\n",
    "to_plot_data_y_train = np.where(to_plot_data_y_train == 0, None, to_plot_data_y_train)\n",
    "to_plot_data_y_val = np.where(to_plot_data_y_val == 0, None, to_plot_data_y_val)\n",
    "\n",
    "## plots\n",
    "\n",
    "fig = figure(figsize=(25, 5), dpi=80)\n",
    "fig.patch.set_facecolor((1.0, 1.0, 1.0))\n",
    "plt.plot(data_date, to_plot_data_y_train, label=\"Prices (train)\", color=config[\"plots\"][\"color_train\"])\n",
    "plt.plot(data_date, to_plot_data_y_val, label=\"Prices (validation)\", color=config[\"plots\"][\"color_val\"])\n",
    "# xticks = [data_date[i] if ((i%config[\"plots\"][\"xticks_interval\"]==0 and (num_data_points-i) > config[\"plots\"][\"xticks_interval\"]) or i==num_data_points-1) else None for i in range(num_data_points)] # make x ticks nice\n",
    "# x = np.arange(0,len(xticks))\n",
    "# plt.xticks(x, xticks, rotation='vertical')\n",
    "\n",
    "# Format the x axis\n",
    "locator = mdate.MonthLocator(interval=config[\"plots\"][\"xticks_interval\"])\n",
    "fmt = mdate.DateFormatter('%Y-%m')\n",
    "X = plt.gca().xaxis\n",
    "X.set_major_locator(locator) # error\n",
    "# Specify formatter\n",
    "X.set_major_formatter(fmt)\n",
    "plt.xticks(rotation='vertical')\n",
    "plt.xlim([data_date[0], data_date[-1]])\n",
    "\n",
    "plt.title(\"Daily close prices for \" + config[\"alpha_vantage\"][\"symbol\"] + \" - showing training and validation data\")\n",
    "plt.grid(visible=None, which='major', axis='y', linestyle='--')\n",
    "plt.legend()\n",
    "plt.show()"
   ]
  },
  {
   "cell_type": "code",
   "execution_count": 30,
   "id": "0b0fa021",
   "metadata": {},
   "outputs": [],
   "source": [
    "class TimeSeriesDataset(Dataset):\n",
    "    def __init__(self, x, y):\n",
    "        # x = np.expand_dims(x, 2) # in our case, we have only 1 feature, so we need to convert `x` into [batch, sequence, features] for LSTM\n",
    "        self.x = x.astype(np.float32)\n",
    "        self.y = y.astype(np.float32)\n",
    "        \n",
    "    def __len__(self):\n",
    "        return len(self.x)\n",
    "\n",
    "    def __getitem__(self, idx):\n",
    "        return (self.x[idx], self.y[idx])"
   ]
  },
  {
   "cell_type": "code",
   "execution_count": 31,
   "id": "4224356e",
   "metadata": {},
   "outputs": [
    {
     "name": "stdout",
     "output_type": "stream",
     "text": [
      "Train data shape (662, 10, 17) (662,)\n",
      "Validation data shape (166, 10, 17) (166,)\n"
     ]
    }
   ],
   "source": [
    "dataset_train = TimeSeriesDataset(data_x_train, data_y_train)\n",
    "dataset_val = TimeSeriesDataset(data_x_val, data_y_val)\n",
    "\n",
    "print(\"Train data shape\", dataset_train.x.shape, dataset_train.y.shape)\n",
    "print(\"Validation data shape\", dataset_val.x.shape, dataset_val.y.shape)\n",
    "\n",
    "train_dataloader = DataLoader(dataset_train, batch_size=config[\"training\"][\"batch_size\"], shuffle=True)\n",
    "val_dataloader = DataLoader(dataset_val, batch_size=config[\"training\"][\"batch_size\"], shuffle=True)"
   ]
  },
  {
   "cell_type": "markdown",
   "id": "b1848ded",
   "metadata": {},
   "source": [
    "# 6. Build Models"
   ]
  },
  {
   "cell_type": "markdown",
   "id": "d7651895",
   "metadata": {},
   "source": [
    "## 6a. Time Series Model (Neural Prophet)"
   ]
  },
  {
   "cell_type": "markdown",
   "id": "43e809f1",
   "metadata": {},
   "source": [
    "### Train and Test"
   ]
  },
  {
   "cell_type": "code",
   "execution_count": 32,
   "id": "d2d04ec3",
   "metadata": {},
   "outputs": [
    {
     "data": {
      "image/png": "[encoded data removed]",
      "text/plain": [
       "<Figure size 864x576 with 2 Axes>"
      ]
     },
     "metadata": {
      "needs_background": "light"
     },
     "output_type": "display_data"
    },
    {
     "name": "stdout",
     "output_type": "stream",
     "text": [
      "log-SmoothL1Loss\n",
      "\ttraining         \t (min:   -5.180, max:   -0.664, cur:   -5.180)\n",
      "\tvalidation       \t (min:   -3.637, max:   -0.830, cur:   -3.255)\n"
     ]
    }
   ],
   "source": [
    "data = seattle_gas_prices\n",
    "df = data['data'].set_axis(['ds', 'y'], axis=1, inplace=False)\n",
    "\n",
    "# https://rdrr.io/github/AlbertoAlmuinha/neuralprophet/man/neural_prophet.html\n",
    "params = {\n",
    "    # \"seasonality_mode\": \"additive\", \n",
    "    # \"learning_rate\": 0.1,\n",
    "    # \"n_changepoints\": 40, # 48\n",
    "    # \"changepoints_range\": 0.95, \n",
    "    # \"trend_reg\": 1,\n",
    "    # \"num_hidden_layers\": 2,\n",
    "    # \"d_hidden\": 64,\n",
    "    # \"yearly_seasonality\": True, # True\n",
    "    # \"weekly_seasonality\": False,\n",
    "    # \"daily_seasonality\": False,\n",
    "    # \"loss_func\": 'MSE',\n",
    "    # \"n_lags\": 12,\n",
    "    # \"user_changepoints\", \n",
    "}\n",
    "\n",
    "model = NeuralProphet(**params)\n",
    "\n",
    "df_train, df_test = model.split_df(df=df, freq=\"W\", valid_p=0.15)\n",
    "\n",
    "metrics =  model.fit(df_train, freq=\"W\", validation_df=df_test, progress=\"plot\")"
   ]
  },
  {
   "cell_type": "code",
   "execution_count": 33,
   "id": "d0bad5f6",
   "metadata": {},
   "outputs": [
    {
     "data": {
      "text/html": [
       "<div>\n",
       "<style scoped>\n",
       "    .dataframe tbody tr th:only-of-type {\n",
       "        vertical-align: middle;\n",
       "    }\n",
       "\n",
       "    .dataframe tbody tr th {\n",
       "        vertical-align: top;\n",
       "    }\n",
       "\n",
       "    .dataframe thead th {\n",
       "        text-align: right;\n",
       "    }\n",
       "</style>\n",
       "<table border=\"1\" class=\"dataframe\">\n",
       "  <thead>\n",
       "    <tr style=\"text-align: right;\">\n",
       "      <th></th>\n",
       "      <th>SmoothL1Loss</th>\n",
       "      <th>MAE</th>\n",
       "      <th>RMSE</th>\n",
       "      <th>RegLoss</th>\n",
       "      <th>SmoothL1Loss_val</th>\n",
       "      <th>MAE_val</th>\n",
       "      <th>RMSE_val</th>\n",
       "    </tr>\n",
       "  </thead>\n",
       "  <tbody>\n",
       "    <tr>\n",
       "      <th>203</th>\n",
       "      <td>0.005627</td>\n",
       "      <td>0.196749</td>\n",
       "      <td>0.259171</td>\n",
       "      <td>0.0</td>\n",
       "      <td>0.038567</td>\n",
       "      <td>0.582971</td>\n",
       "      <td>0.704324</td>\n",
       "    </tr>\n",
       "  </tbody>\n",
       "</table>\n",
       "</div>"
      ],
      "text/plain": [
       "     SmoothL1Loss       MAE      RMSE  RegLoss  SmoothL1Loss_val   MAE_val  \\\n",
       "203      0.005627  0.196749  0.259171      0.0          0.038567  0.582971   \n",
       "\n",
       "     RMSE_val  \n",
       "203  0.704324  "
      ]
     },
     "execution_count": 33,
     "metadata": {},
     "output_type": "execute_result"
    }
   ],
   "source": [
    "metrics.tail(1)"
   ]
  },
  {
   "cell_type": "code",
   "execution_count": 34,
   "id": "920a9fca",
   "metadata": {},
   "outputs": [
    {
     "name": "stderr",
     "output_type": "stream",
     "text": [
      "INFO - (NP.df_utils._infer_frequency) - Major frequency W-MON corresponds to 99.329% of the data.\n",
      "INFO - (NP.df_utils._infer_frequency) - Defined frequency is equal to major frequency - W\n",
      "INFO - (NP.df_utils._infer_frequency) - Major frequency W-MON corresponds to 99.329% of the data.\n",
      "INFO - (NP.df_utils._infer_frequency) - Defined frequency is equal to major frequency - W\n",
      "INFO - (NP.df_utils._infer_frequency) - Major frequency W-MON corresponds to 99.329% of the data.\n",
      "INFO - (NP.df_utils._infer_frequency) - Defined frequency is equal to major frequency - W\n",
      "INFO - (NP.forecaster._evaluate) - Validation metrics:    SmoothL1Loss    MAE   RMSE\n",
      "1         0.039  0.583  0.704\n"
     ]
    },
    {
     "name": "stdout",
     "output_type": "stream",
     "text": [
      "   SmoothL1Loss       MAE      RMSE\n",
      "0      0.038567  0.582971  0.704324\n"
     ]
    },
    {
     "data": {
      "image/png": "[encoded data removed]",
      "text/plain": [
       "<Figure size 720x432 with 2 Axes>"
      ]
     },
     "metadata": {},
     "output_type": "display_data"
    }
   ],
   "source": [
    "test_pred = model.predict(df_test)\n",
    "test_components = model.plot_components(test_pred)\n",
    "\n",
    "test_metrics = model.test(df_test)\n",
    "print(test_metrics)"
   ]
  },
  {
   "cell_type": "code",
   "execution_count": null,
   "id": "d7bbf5fe",
   "metadata": {},
   "outputs": [
    {
     "name": "stderr",
     "output_type": "stream",
     "text": [
      "INFO - (NP.df_utils._infer_frequency) - Major frequency W-MON corresponds to 99.9% of the data.\n",
      "INFO - (NP.df_utils._infer_frequency) - Defined frequency is equal to major frequency - W\n",
      "INFO - (NP.df_utils._infer_frequency) - Major frequency W-MON corresponds to 99.9% of the data.\n",
      "INFO - (NP.df_utils._infer_frequency) - Defined frequency is equal to major frequency - W\n"
     ]
    }
   ],
   "source": [
    "# fig, ax = plt.subplots(figsize=(10, 7))\n",
    "fig, (ax1, ax2) = plt.subplots(2, 1, figsize=(10, 7), sharex=False)\n",
    "model.plot(model.predict(df), ax=ax1)\n",
    "ax1.set_xlabel('Date', fontsize=14)\n",
    "ax1.set_ylabel('Seattle Gas Price', fontsize=14)\n",
    "ax1.set_title(\"Seattle Gas Price Predictions (Train + Test)\", fontsize=24, fontweight=\"bold\")\n",
    "ax1.legend(labels=['NeuralProphet Prediction', 'True Price'], fontsize=12)\n",
    "\n",
    "# fig, ax = plt.subplots(figsize=(10, 7))\n",
    "model.plot(test_pred, xlabel='Date', ylabel='Seattle Gas Price', ax=ax2)\n",
    "ax2.set_xlabel('Date', fontsize=14)\n",
    "ax2.set_ylabel('Seattle Gas Price', fontsize=14)\n",
    "ax2.legend(labels=['NeuralProphet Prediction', 'True Price'], fontsize=12)"
   ]
  },
  {
   "cell_type": "markdown",
   "id": "0a401cec",
   "metadata": {},
   "source": [
    "### Predict into the Future"
   ]
  },
  {
   "cell_type": "code",
   "execution_count": null,
   "id": "7a391111",
   "metadata": {},
   "outputs": [],
   "source": [
    "model2 = NeuralProphet(**params)\n",
    "metrics_train2 = model2.fit(df=df, freq=\"W\", progress=\"plot\")"
   ]
  },
  {
   "cell_type": "code",
   "execution_count": null,
   "id": "2ee4f600",
   "metadata": {},
   "outputs": [],
   "source": [
    "# fig = model.plot(model2.predict(df))\n",
    "fig, ax = plt.subplots(figsize=(15, 7))\n",
    "model.plot(model.predict(df), ax=ax)\n",
    "ax.set_xlabel('Date', fontsize=14)\n",
    "ax.set_ylabel('Seattle Gas Price', fontsize=14)\n",
    "ax.set_title(\"Seattle Gas Price Predictions \\n (with model re-trained on all available data)\", fontsize=24, fontweight=\"bold\")\n",
    "ax.legend(labels=['NeuralProphet Prediction', 'True Price'], fontsize=12)"
   ]
  },
  {
   "cell_type": "code",
   "execution_count": null,
   "id": "293b951a",
   "metadata": {},
   "outputs": [],
   "source": [
    "future = model2.make_future_dataframe(df, periods=12, n_historic_predictions=96)\n",
    "forecast = model2.predict(future)"
   ]
  },
  {
   "cell_type": "code",
   "execution_count": null,
   "id": "fd93cee6",
   "metadata": {},
   "outputs": [],
   "source": [
    "# fig = model2.plot(forecast)\n",
    "\n",
    "fig, ax = plt.subplots(figsize=(15, 7))\n",
    "model.plot(forecast, ax=ax)\n",
    "ax.set_xlabel('Date', fontsize=14)\n",
    "ax.set_ylabel('Seattle Gas Price', fontsize=14)\n",
    "ax.set_title(\"Seattle Gas Price Forecast\", fontsize=24, fontweight=\"bold\")\n",
    "ax.legend(labels=['NeuralProphet Prediction', 'True Price'], fontsize=12)"
   ]
  },
  {
   "cell_type": "markdown",
   "id": "14dde5ea",
   "metadata": {},
   "source": [
    "## 6b. Neural Network (LSTM)"
   ]
  },
  {
   "cell_type": "code",
   "execution_count": null,
   "id": "11416df1",
   "metadata": {},
   "outputs": [],
   "source": [
    "class LSTMModel(nn.Module):\n",
    "    def __init__(self, input_size=1, hidden_layer_size=32, num_layers=2, output_size=1, dropout=0.2):\n",
    "        super().__init__()\n",
    "        self.hidden_layer_size = hidden_layer_size\n",
    "\n",
    "        self.linear_1 = nn.Linear(input_size, hidden_layer_size)\n",
    "        self.relu = nn.ReLU()\n",
    "        self.lstm = nn.LSTM(hidden_layer_size, hidden_size=self.hidden_layer_size, num_layers=num_layers, batch_first=True)\n",
    "        self.dropout = nn.Dropout(dropout)\n",
    "        self.linear_2 = nn.Linear(num_layers*hidden_layer_size, output_size)\n",
    "        \n",
    "        self.init_weights()\n",
    "\n",
    "    def init_weights(self):\n",
    "        for name, param in self.lstm.named_parameters():\n",
    "            if 'bias' in name:\n",
    "                 nn.init.constant_(param, 0.0)\n",
    "            elif 'weight_ih' in name:\n",
    "                 nn.init.kaiming_normal_(param)\n",
    "            elif 'weight_hh' in name:\n",
    "                 nn.init.orthogonal_(param)\n",
    "\n",
    "    def forward(self, x):\n",
    "        batchsize = x.shape[0]\n",
    "\n",
    "        # layer 1\n",
    "        x = self.linear_1(x)\n",
    "        x = self.relu(x)\n",
    "        \n",
    "        # LSTM layer\n",
    "        lstm_out, (h_n, c_n) = self.lstm(x)\n",
    "\n",
    "        # reshape output from hidden cell into [batch, features] for `linear_2`\n",
    "        x = h_n.permute(1, 0, 2).reshape(batchsize, -1) \n",
    "        \n",
    "        # layer 2\n",
    "        x = self.dropout(x)\n",
    "        predictions = self.linear_2(x)\n",
    "        return predictions[:,-1]"
   ]
  },
  {
   "cell_type": "markdown",
   "id": "75d2ee6f",
   "metadata": {},
   "source": [
    "## 6c. Attentioned-Based Neural Network (DA-RNN)"
   ]
  },
  {
   "cell_type": "code",
   "execution_count": null,
   "id": "0ab879a6",
   "metadata": {},
   "outputs": [],
   "source": [
    "class InputAttentionEncoder(nn.Module):\n",
    "    def __init__(self, N, M, T, device, stateful=False):\n",
    "        \"\"\"\n",
    "        :param: N: int\n",
    "            number of time serieses\n",
    "        :param: M:\n",
    "            number of LSTM units\n",
    "        :param: T:\n",
    "            number of timesteps\n",
    "        :param: stateful:\n",
    "            decides whether to initialize cell state of new time window with values of the last cell state\n",
    "            of previous time window or to initialize it with zeros\n",
    "        \"\"\"\n",
    "        super(self.__class__, self).__init__()\n",
    "        self.N = N\n",
    "        self.M = M\n",
    "        self.T = T\n",
    "        \n",
    "        self.encoder_lstm = nn.LSTMCell(input_size=self.N, hidden_size=self.M)\n",
    "        \n",
    "        #equation 8 matrices\n",
    "        \n",
    "        self.W_e = nn.Linear(2*self.M, self.T)\n",
    "        self.U_e = nn.Linear(self.T, self.T, bias=False)\n",
    "        self.v_e = nn.Linear(self.T, 1, bias=False)\n",
    "    \n",
    "    def forward(self, inputs):\n",
    "        encoded_inputs = torch.zeros((inputs.size(0), self.T, self.M)).to(device)\n",
    "        \n",
    "        #initiale hidden states\n",
    "        h_tm1 = torch.zeros((inputs.size(0), self.M)).to(device)\n",
    "        s_tm1 = torch.zeros((inputs.size(0), self.M)).to(device)\n",
    "        \n",
    "        for t in range(self.T):\n",
    "            #concatenate hidden states\n",
    "            h_c_concat = torch.cat((h_tm1, s_tm1), dim=1)\n",
    "            \n",
    "            #attention weights for each k in N (equation 8)\n",
    "            x = self.W_e(h_c_concat).unsqueeze_(1).repeat(1, self.N, 1)\n",
    "            y = self.U_e(inputs.permute(0, 2, 1))\n",
    "            z = torch.tanh(x + y)\n",
    "            e_k_t = torch.squeeze(self.v_e(z))\n",
    "        \n",
    "            #normalize attention weights (equation 9)\n",
    "            alpha_k_t = F.softmax(e_k_t, dim=1)\n",
    "            \n",
    "            #weight inputs (equation 10)\n",
    "            weighted_inputs = alpha_k_t * inputs[:, t, :] \n",
    "    \n",
    "            #calculate next hidden states (equation 11)\n",
    "            h_tm1, s_tm1 = self.encoder_lstm(weighted_inputs, (h_tm1, s_tm1))\n",
    "            \n",
    "            encoded_inputs[:, t, :] = h_tm1\n",
    "        return encoded_inputs\n",
    "    \n",
    "class TemporalAttentionDecoder(nn.Module):\n",
    "    def __init__(self, M, P, T, device, stateful=False):\n",
    "        \"\"\"\n",
    "        :param: M: int\n",
    "            number of encoder LSTM units\n",
    "        :param: P:\n",
    "            number of deocder LSTM units\n",
    "        :param: T:\n",
    "            number of timesteps\n",
    "        :param: stateful:\n",
    "            decides whether to initialize cell state of new time window with values of the last cell state\n",
    "            of previous time window or to initialize it with zeros\n",
    "        \"\"\"\n",
    "        super(self.__class__, self).__init__()\n",
    "        self.M = M\n",
    "        self.P = P\n",
    "        self.T = T\n",
    "        self.stateful = stateful\n",
    "        \n",
    "        self.decoder_lstm = nn.LSTMCell(input_size=1, hidden_size=self.P)\n",
    "        \n",
    "        #equation 12 matrices\n",
    "        self.W_d = nn.Linear(2*self.P, self.M)\n",
    "        self.U_d = nn.Linear(self.M, self.M, bias=False)\n",
    "        self.v_d = nn.Linear(self.M, 1, bias = False)\n",
    "        \n",
    "        #equation 15 matrix\n",
    "        self.w_tilda = nn.Linear(self.M + 1, 1)\n",
    "        \n",
    "        #equation 22 matrices\n",
    "        self.W_y = nn.Linear(self.P + self.M, self.P)\n",
    "        self.v_y = nn.Linear(self.P, 1)\n",
    "        \n",
    "    def forward(self, encoded_inputs, y):\n",
    "        \n",
    "        #initializing hidden states\n",
    "        d_tm1 = torch.zeros((encoded_inputs.size(0), self.P)).to(device)\n",
    "        s_prime_tm1 = torch.zeros((encoded_inputs.size(0), self.P)).to(device)\n",
    "        for t in range(self.T):\n",
    "            #concatenate hidden states\n",
    "            d_s_prime_concat = torch.cat((d_tm1, s_prime_tm1), dim=1)\n",
    "            #print(d_s_prime_concat)\n",
    "            #temporal attention weights (equation 12)\n",
    "            x1 = self.W_d(d_s_prime_concat).unsqueeze_(1).repeat(1, encoded_inputs.shape[1], 1)\n",
    "            y1 = self.U_d(encoded_inputs)\n",
    "            z1 = torch.tanh(x1 + y1)\n",
    "            l_i_t = self.v_d(z1)\n",
    "            \n",
    "            #normalized attention weights (equation 13)\n",
    "            beta_i_t = F.softmax(l_i_t, dim=1)\n",
    "            \n",
    "            #create context vector (equation_14)\n",
    "            c_t = torch.sum(beta_i_t * encoded_inputs, dim=1)\n",
    "            \n",
    "            #concatenate c_t and y_t\n",
    "            y_c_concat = torch.cat((c_t, y[:, t, :]), dim=1)\n",
    "            #create y_tilda\n",
    "            y_tilda_t = self.w_tilda(y_c_concat)\n",
    "            \n",
    "            #calculate next hidden states (equation 16)\n",
    "            d_tm1, s_prime_tm1 = self.decoder_lstm(y_tilda_t, (d_tm1, s_prime_tm1))\n",
    "        \n",
    "        #concatenate context vector at step T and hidden state at step T\n",
    "        d_c_concat = torch.cat((d_tm1, c_t), dim=1)\n",
    "\n",
    "        #calculate output\n",
    "        y_Tp1 = self.v_y(self.W_y(d_c_concat))\n",
    "        return y_Tp1\n",
    "    \n",
    "class DARNN(nn.Module):\n",
    "    def __init__(self, N, M, P, T, device, stateful_encoder=False, stateful_decoder=False):\n",
    "        \"\"\"\n",
    "        :param: N: int\n",
    "            number of time series\n",
    "        :param: M: int\n",
    "            number of encoder LSTM units\n",
    "        :param: P:\n",
    "            number of deocder LSTM units\n",
    "        :param: T:\n",
    "            number of timesteps\n",
    "        :param: stateful_encoder & stateful_decoder:\n",
    "            decides whether to initialize cell state of new time window with \n",
    "            values of the last cell state of previous time window or to \n",
    "            initialize it with zeros\n",
    "        \"\"\"\n",
    "        super(self.__class__, self).__init__()\n",
    "        self.encoder = InputAttentionEncoder(N, M, T, device, stateful_encoder).to(device)\n",
    "        self.decoder = TemporalAttentionDecoder(M, P, T, device, stateful_decoder).to(device)\n",
    "    def forward(self, X_history, y_history):\n",
    "        out = self.decoder(self.encoder(X_history), y_history)\n",
    "        return out"
   ]
  },
  {
   "cell_type": "markdown",
   "id": "c0fa018f",
   "metadata": {},
   "source": [
    "## 6d. LSTM Updated"
   ]
  },
  {
   "cell_type": "code",
   "execution_count": null,
   "id": "c7b99997",
   "metadata": {},
   "outputs": [],
   "source": [
    "class LSTM2(nn.Module):\n",
    "\n",
    "    def __init__(self, num_classes, input_size, hidden_size, num_layers, seq_length, dropout=0.1):\n",
    "        super(LSTM2, self).__init__()\n",
    "        \n",
    "        self.num_classes = num_classes\n",
    "        self.num_layers = num_layers\n",
    "        self.input_size = input_size\n",
    "        self.hidden_size = hidden_size\n",
    "        self.seq_length = seq_length\n",
    "        \n",
    "        self.lstm = nn.LSTM(input_size=input_size, hidden_size=hidden_size,\n",
    "                            num_layers=num_layers, batch_first=True, dropout=dropout)\n",
    "        \n",
    "        self.fc = nn.Linear(hidden_size, num_classes)\n",
    "        \n",
    "        # Define activation function\n",
    "        self.relu = nn.ReLU()\n",
    "\n",
    "    def forward(self, x, h_0, c_0):\n",
    "        \n",
    "        # Propagate input through LSTM\n",
    "        self.lstm.flatten_parameters()\n",
    "        \n",
    "        output, (hn, cn) = self.lstm(x, (h_0, c_0)) #lstm with input, hidden, and internal state\n",
    "        out = self.relu(output[:,-1,:])\n",
    "        out = self.fc(out) \n",
    "        \n",
    "        return out, hn, cn\n",
    "    \n",
    "    def init_hidden_internal(self, batch_size):\n",
    "        h_0 = Variable(torch.zeros(\n",
    "            self.num_layers, batch_size, self.hidden_size)).to(device)\n",
    "        \n",
    "        c_0 = Variable(torch.zeros(\n",
    "            self.num_layers, batch_size, self.hidden_size)).to(device)\n",
    "        return h_0, c_0"
   ]
  },
  {
   "cell_type": "markdown",
   "id": "cd83f0a0",
   "metadata": {},
   "source": [
    "# 7. Model Training"
   ]
  },
  {
   "cell_type": "code",
   "execution_count": null,
   "id": "cfabd4b0",
   "metadata": {},
   "outputs": [],
   "source": [
    "class EarlyStopping:\n",
    "    \"\"\"Early stops the training if validation loss doesn't improve after a given patience.\"\"\"\n",
    "    def __init__(self, patience=7, verbose=False, delta=0, path='checkpoint.pt', trace_func=print):\n",
    "        \"\"\"\n",
    "        Args:\n",
    "            patience (int): How long to wait after last time validation loss improved.\n",
    "                            Default: 7\n",
    "            verbose (bool): If True, prints a message for each validation loss improvement. \n",
    "                            Default: False\n",
    "            delta (float): Minimum change in the monitored quantity to qualify as an improvement.\n",
    "                            Default: 0\n",
    "            path (str): Path for the checkpoint to be saved to.\n",
    "                            Default: 'checkpoint.pt'\n",
    "            trace_func (function): trace print function.\n",
    "                            Default: print            \n",
    "        \"\"\"\n",
    "        self.patience = patience\n",
    "        self.verbose = verbose\n",
    "        self.counter = 0\n",
    "        self.best_score = None\n",
    "        self.early_stop = False\n",
    "        self.val_loss_min = np.Inf\n",
    "        self.delta = delta\n",
    "        self.path = path\n",
    "        self.trace_func = trace_func\n",
    "    def __call__(self, val_loss, model):\n",
    "\n",
    "        score = -val_loss\n",
    "\n",
    "        if self.best_score is None:\n",
    "            self.best_score = score\n",
    "            self.save_checkpoint(val_loss, model)\n",
    "        elif score < self.best_score + self.delta:\n",
    "            self.counter += 1\n",
    "            self.trace_func(f'EarlyStopping counter: {self.counter} out of {self.patience}')\n",
    "            if self.counter >= self.patience:\n",
    "                self.early_stop = True\n",
    "        else:\n",
    "            self.best_score = score\n",
    "            self.save_checkpoint(val_loss, model)\n",
    "            self.counter = 0\n",
    "\n",
    "    def save_checkpoint(self, val_loss, model):\n",
    "        '''Saves model when validation loss decrease.'''\n",
    "        if self.verbose:\n",
    "            self.trace_func(f'Validation loss decreased ({self.val_loss_min:.6f} --> {val_loss:.6f}).  Saving model ...')\n",
    "        torch.save(model.state_dict(), self.path)\n",
    "        self.val_loss_min = val_loss"
   ]
  },
  {
   "cell_type": "code",
   "execution_count": null,
   "id": "c339d5c1",
   "metadata": {},
   "outputs": [],
   "source": [
    "def run_epoch(dataloader, is_training=False):\n",
    "    epoch_loss = 0\n",
    "\n",
    "    if is_training:\n",
    "        model.train()\n",
    "    else:\n",
    "        model.eval()\n",
    "\n",
    "    for idx, (x, y) in enumerate(dataloader):\n",
    "        if is_training:\n",
    "            optimizer.zero_grad()\n",
    "\n",
    "        batchsize = x.shape[0]\n",
    "\n",
    "        x = x.to(config[\"training\"][\"device\"])\n",
    "        y = y.to(config[\"training\"][\"device\"])\n",
    "\n",
    "        out = model(x)\n",
    "        loss = criterion(out.contiguous(), y.contiguous())\n",
    "\n",
    "        if is_training:\n",
    "            loss.backward()\n",
    "            optimizer.step()\n",
    "\n",
    "        epoch_loss += (loss.detach().item() / batchsize)\n",
    "\n",
    "    # lr = scheduler.get_last_lr()[0]\n",
    "\n",
    "    return epoch_loss"
   ]
  },
  {
   "cell_type": "markdown",
   "id": "38a7c9e9",
   "metadata": {},
   "source": [
    "## 7a. LSTM"
   ]
  },
  {
   "cell_type": "code",
   "execution_count": null,
   "id": "5c09703a",
   "metadata": {},
   "outputs": [],
   "source": [
    "train_dataloader = DataLoader(dataset_train, batch_size=config[\"training\"][\"batch_size\"], shuffle=True)\n",
    "val_dataloader = DataLoader(dataset_val, batch_size=config[\"training\"][\"batch_size\"], shuffle=True)\n",
    "\n",
    "input_size = data_x_train.shape[2]\n",
    "\n",
    "model = LSTMModel(input_size=input_size, hidden_layer_size=config[\"model\"][\"lstm_size\"], num_layers=config[\"model\"][\"num_lstm_layers\"], output_size=1, dropout=config[\"model\"][\"dropout\"])\n",
    "model = model.to(config[\"training\"][\"device\"])\n",
    "\n",
    "criterion = nn.MSELoss()\n",
    "# optimizer = optim.Adam(model.parameters(), lr=config[\"training\"][\"learning_rate\"], betas=(0.9, 0.98), eps=1e-9)\n",
    "optimizer = torch.optim.Adam(model.parameters(), lr=0.01)\n",
    "scheduler = torch.optim.lr_scheduler.ReduceLROnPlateau(optimizer=optimizer, patience=7)\n",
    "\n",
    "# initialize the early_stopping object\n",
    "patience = config[\"model\"][\"patience\"]\n",
    "early_stopping = EarlyStopping(patience=patience, verbose=True)\n",
    "\n",
    "for epoch in range(config[\"training\"][\"num_epoch\"]):\n",
    "    loss_train = run_epoch(train_dataloader, is_training=True)\n",
    "    loss_val = run_epoch(val_dataloader)\n",
    "    \n",
    "    # Learning rate scheduler\n",
    "    scheduler.step(loss_val)\n",
    "    lr = optimizer.param_groups[0]['lr']\n",
    "    \n",
    "    print('Epoch[{}/{}] | loss train:{:.6f}, test:{:.6f} | lr:{:.6f}'\n",
    "              .format(epoch+1, config[\"training\"][\"num_epoch\"], loss_train, loss_val, lr))\n",
    "    \n",
    "    # early_stopping needs the validation loss to check if it has decresed, \n",
    "    # and if it has, it will make a checkpoint of the current model\n",
    "    early_stopping(loss_val, model)\n",
    "\n",
    "    if early_stopping.early_stop:\n",
    "        print(\"Early stopping\")\n",
    "        break\n",
    "\n",
    "# load the last checkpoint with the best model\n",
    "model.load_state_dict(torch.load('checkpoint.pt'))"
   ]
  },
  {
   "cell_type": "markdown",
   "id": "82d0730b",
   "metadata": {},
   "source": [
    "## 7b. DA-RNN"
   ]
  },
  {
   "cell_type": "code",
   "execution_count": null,
   "id": "4341576b",
   "metadata": {},
   "outputs": [],
   "source": [
    "data = features_targets\n",
    "device = torch.device(\"cuda:0\" if torch.cuda.is_available() else \"cpu\")\n",
    "batch_size = config['training']['batch_size']\n",
    "timesteps = config[\"data\"][\"window_size\"]\n",
    "n_timeseries = data.shape[1] - 1\n",
    "batch_size = 16\n",
    "\n",
    "up_to_train_idx = int(data.shape[0]*0.70)\n",
    "up_to_val_idx = int(data.shape[0]*0.85)\n",
    "train_length = up_to_train_idx\n",
    "val_length = up_to_val_idx - up_to_train_idx\n",
    "test_length = data.shape[0] - train_length - val_length\n",
    "target = 'gas price'\n",
    "\n",
    "print(train_length, val_length, test_length)"
   ]
  },
  {
   "cell_type": "code",
   "execution_count": null,
   "id": "a83af30a",
   "metadata": {},
   "outputs": [],
   "source": [
    "X = np.zeros((len(data), timesteps, data.shape[1]-1))\n",
    "y = np.zeros((len(data), timesteps, 1))"
   ]
  },
  {
   "cell_type": "code",
   "execution_count": null,
   "id": "983ac79d",
   "metadata": {},
   "outputs": [],
   "source": [
    "for i, name in enumerate(list(data.columns[:-1])):\n",
    "    for j in range(timesteps):\n",
    "        X[:, j, i] = data[name].shift(timesteps - j - 1).fillna(method=\"bfill\")"
   ]
  },
  {
   "cell_type": "code",
   "execution_count": null,
   "id": "b7100185",
   "metadata": {},
   "outputs": [],
   "source": [
    "for j in range(timesteps):\n",
    "    y[:, j, 0] = data[target].shift(timesteps - j - 1).fillna(method=\"bfill\")"
   ]
  },
  {
   "cell_type": "code",
   "execution_count": null,
   "id": "5ab97807",
   "metadata": {},
   "outputs": [],
   "source": [
    "prediction_horizon = 1\n",
    "target = data[target].shift(-prediction_horizon).fillna(method=\"ffill\").values"
   ]
  },
  {
   "cell_type": "code",
   "execution_count": null,
   "id": "24d80a95",
   "metadata": {},
   "outputs": [],
   "source": [
    "X = X[timesteps:]\n",
    "y = y[timesteps:]\n",
    "target = target[timesteps:]"
   ]
  },
  {
   "cell_type": "code",
   "execution_count": null,
   "id": "e5f96052",
   "metadata": {},
   "outputs": [],
   "source": [
    "X_train = X[:train_length]\n",
    "y_his_train = y[:train_length]\n",
    "X_val = X[train_length:train_length+val_length]\n",
    "y_his_val = y[train_length:train_length+val_length]\n",
    "X_test = X[-val_length:]\n",
    "y_his_test = y[-val_length:]\n",
    "target_train = target[:train_length]\n",
    "target_val = target[train_length:train_length+val_length]\n",
    "target_test = target[-val_length:]"
   ]
  },
  {
   "cell_type": "code",
   "execution_count": null,
   "id": "c4a2d891",
   "metadata": {},
   "outputs": [],
   "source": [
    "X_train_max = X_train.max(axis=0)\n",
    "X_train_min = X_train.min(axis=0)\n",
    "y_his_train_max = y_his_train.max(axis=0)\n",
    "y_his_train_min = y_his_train.min(axis=0)\n",
    "target_train_max = target_train.max(axis=0)\n",
    "target_train_min = target_train.min(axis=0)"
   ]
  },
  {
   "cell_type": "code",
   "execution_count": null,
   "id": "bb999e20",
   "metadata": {},
   "outputs": [],
   "source": [
    "X_train = (X_train - X_train_min) / (X_train_max - X_train_min)\n",
    "X_val = (X_val - X_train_min) / (X_train_max - X_train_min)\n",
    "X_test = (X_test - X_train_min) / (X_train_max - X_train_min)\n",
    "\n",
    "y_his_train = (y_his_train - y_his_train_min) / (y_his_train_max - y_his_train_min)\n",
    "y_his_val = (y_his_val - y_his_train_min) / (y_his_train_max - y_his_train_min)\n",
    "y_his_test = (y_his_test - y_his_train_min) / (y_his_train_max - y_his_train_min)\n",
    "\n",
    "target_train = (target_train - target_train_min) / (target_train_max - target_train_min)\n",
    "target_val = (target_val - target_train_min) / (target_train_max - target_train_min)\n",
    "target_test = (target_test - target_train_min) / (target_train_max - target_train_min)"
   ]
  },
  {
   "cell_type": "code",
   "execution_count": null,
   "id": "6fd96d41",
   "metadata": {},
   "outputs": [],
   "source": [
    "X_train_t = torch.Tensor(X_train)\n",
    "X_val_t = torch.Tensor(X_val)\n",
    "X_test_t = torch.Tensor(X_test)\n",
    "y_his_train_t = torch.Tensor(y_his_train)\n",
    "y_his_val_t = torch.Tensor(y_his_val)\n",
    "y_his_test_t = torch.Tensor(y_his_test)\n",
    "target_train_t = torch.Tensor(target_train)\n",
    "target_val_t = torch.Tensor(target_val)\n",
    "target_test_t = torch.Tensor(target_test)"
   ]
  },
  {
   "cell_type": "code",
   "execution_count": null,
   "id": "992e757f",
   "metadata": {},
   "outputs": [],
   "source": [
    "data_train_loader = DataLoader(TensorDataset(X_train_t, y_his_train_t, target_train_t), shuffle=True, batch_size=batch_size)\n",
    "data_val_loader = DataLoader(TensorDataset(X_val_t, y_his_val_t, target_val_t), shuffle=False, batch_size=batch_size)\n",
    "data_test_loader = DataLoader(TensorDataset(X_test_t, y_his_test_t, target_test_t), shuffle=False, batch_size=batch_size)"
   ]
  },
  {
   "cell_type": "code",
   "execution_count": null,
   "id": "5854a091",
   "metadata": {},
   "outputs": [],
   "source": [
    "darnn = DARNN(N=X_train.shape[2], M=64, P=16, T=X_train.shape[1], device=device).to(device) # 1) M=64, N=16; 2) M=32, N=32\n",
    "opt = torch.optim.Adam(darnn.parameters(), lr=0.01)\n",
    "# epoch_scheduler = torch.optim.lr_scheduler.ReduceLROnPlateau(optimizer=opt, patience=25)\n",
    "epoch_scheduler = torch.optim.lr_scheduler.ReduceLROnPlateau(optimizer=opt, patience=15)"
   ]
  },
  {
   "cell_type": "code",
   "execution_count": null,
   "id": "7eb02f1b",
   "metadata": {},
   "outputs": [],
   "source": [
    "epochs = 1000\n",
    "loss = nn.MSELoss()\n",
    "\n",
    "# initialize the early_stopping object\n",
    "patience = config[\"model\"][\"patience\"]\n",
    "early_stopping = EarlyStopping(patience=50, verbose=True, path='darnn.pt') \n",
    "\n",
    "for i in range(epochs):\n",
    "    mse_train = 0\n",
    "    for batch_x, batch_y_h, batch_y in data_train_loader :\n",
    "        batch_x = batch_x.to(device)\n",
    "        batch_y = batch_y.to(device)\n",
    "        batch_y_h = batch_y_h.to(device)\n",
    "        opt.zero_grad()\n",
    "        y_pred = darnn(batch_x, batch_y_h)\n",
    "        y_pred = y_pred.squeeze(1)\n",
    "        l = loss(y_pred, batch_y)\n",
    "        l.backward()\n",
    "        mse_train += l.item()*batch_x.shape[0]\n",
    "        opt.step()\n",
    "    with torch.no_grad():\n",
    "        mse_val = 0\n",
    "        preds = []\n",
    "        true = []\n",
    "        for batch_x, batch_y_h, batch_y in data_val_loader:\n",
    "            batch_x = batch_x.to(device)\n",
    "            batch_y = batch_y.to(device)\n",
    "            batch_y_h = batch_y_h.to(device)\n",
    "            output = darnn(batch_x, batch_y_h)\n",
    "            output = output.squeeze(1)\n",
    "            preds.append(output.detach().cpu().numpy())\n",
    "            true.append(batch_y.detach().cpu().numpy())\n",
    "            mse_val += loss(output, batch_y).item()*batch_x.shape[0]\n",
    "    preds = np.concatenate(preds)\n",
    "    true = np.concatenate(true)\n",
    "    \n",
    "    # Learning rate scheduler\n",
    "    epoch_scheduler.step(mse_val/len(X_val_t))\n",
    "    lr = opt.param_groups[0]['lr']\n",
    "    \n",
    "    # early_stopping needs the validation loss to check if it has decresed, \n",
    "    # and if it has, it will make a checkpoint of the current model\n",
    "    early_stopping(mse_val/len(X_val_t), darnn)\n",
    "\n",
    "    if early_stopping.early_stop:\n",
    "        print(\"Early stopping\")\n",
    "        break\n",
    "    \n",
    "    print(\"Iter: \", i, \"train: \", (mse_train/len(X_train_t))**0.5, \n",
    "          \"val: \", (mse_val/len(X_val_t))**0.5, \n",
    "          \"LR: \", lr\n",
    "         )\n",
    "    if(i % 10 == 0):\n",
    "        preds = preds*(target_train_max - target_train_min) + target_train_min\n",
    "        true = true*(target_train_max - target_train_min) + target_train_min\n",
    "        mse = mean_squared_error(true, preds)\n",
    "        mae = mean_absolute_error(true, preds)\n",
    "        print(\"mse: \", mse, \"mae: \", mae)\n",
    "        plt.figure(figsize=(20, 10))\n",
    "        plt.plot(preds)\n",
    "        plt.plot(true)\n",
    "        plt.show()"
   ]
  },
  {
   "cell_type": "code",
   "execution_count": null,
   "id": "c89ca275",
   "metadata": {},
   "outputs": [],
   "source": [
    "darnn.load_state_dict(torch.load(\"darnn.pt\"))"
   ]
  },
  {
   "cell_type": "code",
   "execution_count": null,
   "id": "18af093f",
   "metadata": {},
   "outputs": [],
   "source": [
    "with torch.no_grad():\n",
    "    mse_val = 0\n",
    "    preds = []\n",
    "    true = []\n",
    "    for batch_x, batch_y_h, batch_y in data_test_loader:\n",
    "        batch_x = batch_x.to(device)\n",
    "        batch_y = batch_y.to(device)\n",
    "        batch_y_h = batch_y_h.to(device)\n",
    "        output = darnn(batch_x, batch_y_h)\n",
    "        preds.append(output.detach().cpu().numpy())\n",
    "        true.append(batch_y.detach().cpu().numpy())\n",
    "        mse_val += loss(torch.squeeze(output), batch_y).item()*batch_x.shape[0]\n",
    "preds = np.concatenate(preds)\n",
    "true = np.concatenate(true)"
   ]
  },
  {
   "cell_type": "code",
   "execution_count": null,
   "id": "08248344",
   "metadata": {},
   "outputs": [],
   "source": [
    "preds = preds*(target_train_max - target_train_min) + target_train_min\n",
    "true = true*(target_train_max - target_train_min) + target_train_min\n",
    "\n",
    "mse = mean_squared_error(true, preds)\n",
    "mae = mean_absolute_error(true, preds)"
   ]
  },
  {
   "cell_type": "code",
   "execution_count": null,
   "id": "580ea39d",
   "metadata": {},
   "outputs": [],
   "source": [
    "plt.figure(figsize=(20, 10))\n",
    "plt.plot(preds)\n",
    "plt.plot(true)\n",
    "plt.show()"
   ]
  },
  {
   "cell_type": "markdown",
   "id": "235e4e4c",
   "metadata": {},
   "source": [
    "## 7c. LSTM Updated"
   ]
  },
  {
   "cell_type": "code",
   "execution_count": null,
   "id": "337df4bc",
   "metadata": {},
   "outputs": [],
   "source": [
    "lstm = LSTM2(num_classes=1, input_size=n_timeseries, hidden_size=64, num_layers=1, # hidden=64, layers=2\n",
    "             seq_length=timesteps, dropout=0.2)\n",
    "opt = torch.optim.Adam(lstm.parameters(), lr=0.01)\n",
    "epoch_scheduler = torch.optim.lr_scheduler.ReduceLROnPlateau(optimizer=opt, patience=15)\n",
    "# epoch_scheduler = torch.optim.lr_scheduler.ReduceLROnPlateau(optimizer=opt, patience=25)"
   ]
  },
  {
   "cell_type": "code",
   "execution_count": null,
   "id": "171024ab",
   "metadata": {},
   "outputs": [],
   "source": [
    "epochs = 200\n",
    "loss = nn.MSELoss()\n",
    "\n",
    "# initialize the early_stopping object\n",
    "patience = config[\"model\"][\"patience\"]\n",
    "early_stopping = EarlyStopping(patience=50, verbose=True, path='lstm.pt') \n",
    "\n",
    "for i in range(epochs):\n",
    "    mse_train = 0\n",
    "\n",
    "    for batch_x, batch_y_h, batch_y in data_train_loader :\n",
    "        h, c = lstm.init_hidden_internal(batch_x.shape[0])\n",
    "        \n",
    "#         batch_x = batch_x[:,:,-1].to(device)       \n",
    "#         batch_x = torch.unsqueeze(batch_x, dim=2)\n",
    "        batch_x = batch_x.to(device)\n",
    "        \n",
    "        batch_y = batch_y.to(device)\n",
    "        batch_y_h = batch_y_h.to(device)\n",
    "        opt.zero_grad()\n",
    "        y_pred, h, c = lstm(batch_x, h, c)\n",
    "        y_pred = y_pred.squeeze(1)        \n",
    "        l = loss(y_pred, batch_y)\n",
    "        l.backward()\n",
    "        mse_train += l.item()*batch_x.shape[0]\n",
    "        opt.step()\n",
    "    with torch.no_grad():\n",
    "        mse_val = 0\n",
    "        preds = []\n",
    "        true = []\n",
    "        for batch_x, batch_y_h, batch_y in data_val_loader:\n",
    "            h, c = lstm.init_hidden_internal(batch_x.shape[0])\n",
    "            \n",
    "#             batch_x = batch_x[:,:,-1].to(device)\n",
    "#             batch_x = torch.unsqueeze(batch_x, dim=2)\n",
    "            batch_x = batch_x.to(device)\n",
    "            \n",
    "            batch_y = batch_y.to(device)\n",
    "            batch_y_h = batch_y_h.to(device)\n",
    "            output, h, c = lstm(batch_x, h, c)\n",
    "            output = output.squeeze(1)\n",
    "            preds.append(output.detach().cpu().numpy())\n",
    "            true.append(batch_y.detach().cpu().numpy())\n",
    "            mse_val += loss(output, batch_y).item()*batch_x.shape[0]\n",
    "    preds = np.concatenate(preds)\n",
    "    true = np.concatenate(true)\n",
    "    \n",
    "    # Learning rate scheduler\n",
    "    epoch_scheduler.step(mse_val/len(X_val_t))\n",
    "    lr = opt.param_groups[0]['lr']\n",
    "    \n",
    "    # early_stopping needs the validation loss to check if it has decresed, \n",
    "    # and if it has, it will make a checkpoint of the current model\n",
    "    early_stopping(mse_val/len(X_val_t), lstm)\n",
    "\n",
    "    if early_stopping.early_stop:\n",
    "        print(\"Early stopping\")\n",
    "        break\n",
    "    \n",
    "    print(\"Iter: \", i, \"train: \", (mse_train/len(X_train_t))**0.5, \n",
    "          \"val: \", (mse_val/len(X_val_t))**0.5, \n",
    "          \"LR: \", lr\n",
    "         )\n",
    "    if(i % 10 == 0):\n",
    "        preds = preds*(target_train_max - target_train_min) + target_train_min\n",
    "        true = true*(target_train_max - target_train_min) + target_train_min\n",
    "        mse = mean_squared_error(true, preds)\n",
    "        mae = mean_absolute_error(true, preds)\n",
    "        print(\"mse: \", mse, \"mae: \", mae)\n",
    "        plt.figure(figsize=(20, 10))\n",
    "        plt.plot(preds)\n",
    "        plt.plot(true)\n",
    "        plt.show()"
   ]
  },
  {
   "cell_type": "code",
   "execution_count": null,
   "id": "8629c99f",
   "metadata": {},
   "outputs": [],
   "source": [
    "lstm.load_state_dict(torch.load(\"lstm.pt\"))"
   ]
  },
  {
   "cell_type": "code",
   "execution_count": null,
   "id": "a6624104",
   "metadata": {},
   "outputs": [],
   "source": [
    "with torch.no_grad():\n",
    "    mse_val = 0\n",
    "    preds = []\n",
    "    true = []\n",
    "    for batch_x, batch_y_h, batch_y in data_test_loader:\n",
    "        h, c = lstm.init_hidden_internal(batch_x.shape[0])\n",
    "        batch_x = batch_x.to(device)\n",
    "        batch_y = batch_y.to(device)\n",
    "        batch_y_h = batch_y_h.to(device)\n",
    "        output, h, c = lstm(batch_x, h, c)\n",
    "        preds.append(output.detach().cpu().numpy())\n",
    "        true.append(batch_y.detach().cpu().numpy())\n",
    "        mse_val += loss(torch.squeeze(output), batch_y).item()*batch_x.shape[0]\n",
    "preds = np.concatenate(preds)\n",
    "true = np.concatenate(true)\n",
    "\n",
    "preds = preds*(target_train_max - target_train_min) + target_train_min\n",
    "true = true*(target_train_max - target_train_min) + target_train_min\n",
    "\n",
    "mse = mean_squared_error(true, preds)\n",
    "mae = mean_absolute_error(true, preds)"
   ]
  },
  {
   "cell_type": "code",
   "execution_count": null,
   "id": "66b52eee",
   "metadata": {},
   "outputs": [],
   "source": [
    "plt.figure(figsize=(20, 10))\n",
    "plt.plot(preds)\n",
    "plt.plot(true)\n",
    "plt.show()"
   ]
  },
  {
   "cell_type": "markdown",
   "id": "7647ae9e",
   "metadata": {},
   "source": [
    "# 8. Model Evaluation"
   ]
  },
  {
   "cell_type": "code",
   "execution_count": null,
   "id": "c22bd970",
   "metadata": {},
   "outputs": [],
   "source": [
    "# here we re-initialize dataloader so the data doesn't shuffled, so we can plot the values by date\n",
    "\n",
    "train_dataloader = DataLoader(dataset_train, batch_size=config[\"training\"][\"batch_size\"], shuffle=False)\n",
    "val_dataloader = DataLoader(dataset_val, batch_size=config[\"training\"][\"batch_size\"], shuffle=False)\n",
    "\n",
    "model.eval()\n",
    "\n",
    "# predict on the training data, to see how well the model managed to learn and memorize\n",
    "\n",
    "predicted_train = np.array([])\n",
    "\n",
    "for idx, (x, y) in enumerate(train_dataloader):\n",
    "    x = x.to(config[\"training\"][\"device\"])\n",
    "    out = model(x)\n",
    "    out = out.cpu().detach().numpy()\n",
    "    predicted_train = np.concatenate((predicted_train, out))\n",
    "\n",
    "# predict on the validation data, to see how the model does\n",
    "\n",
    "predicted_val = np.array([])\n",
    "\n",
    "for idx, (x, y) in enumerate(val_dataloader):\n",
    "    x = x.to(config[\"training\"][\"device\"])\n",
    "    out = model(x)\n",
    "    out = out.cpu().detach().numpy()\n",
    "    predicted_val = np.concatenate((predicted_val, out))\n",
    "\n",
    "# prepare data for plotting\n",
    "\n",
    "to_plot_data_y_train_pred = np.zeros(num_data_points)\n",
    "to_plot_data_y_val_pred = np.zeros(num_data_points)\n",
    "\n",
    "to_plot_data_y_train_pred[config[\"data\"][\"window_size\"]:split_index+config[\"data\"][\"window_size\"]] = scaler.inverse_transform_y(predicted_train)\n",
    "to_plot_data_y_val_pred[split_index+config[\"data\"][\"window_size\"]:] = scaler.inverse_transform_y(predicted_val)\n",
    "\n",
    "to_plot_data_y_train_pred = np.where(to_plot_data_y_train_pred == 0, None, to_plot_data_y_train_pred)\n",
    "to_plot_data_y_val_pred = np.where(to_plot_data_y_val_pred == 0, None, to_plot_data_y_val_pred)\n",
    "\n",
    "# plots\n",
    "\n",
    "fig = figure(figsize=(25, 5), dpi=80)\n",
    "fig.patch.set_facecolor((1.0, 1.0, 1.0))\n",
    "plt.plot(data_date, data_price, label=\"Actual prices\", color=config[\"plots\"][\"color_actual\"])\n",
    "plt.plot(data_date, to_plot_data_y_train_pred, label=\"Predicted prices (train)\", color=config[\"plots\"][\"color_pred_train\"])\n",
    "plt.plot(data_date, to_plot_data_y_val_pred, label=\"Predicted prices (validation)\", color=config[\"plots\"][\"color_pred_val\"])\n",
    "plt.title(\"Compare predicted prices to actual prices\")\n",
    "# xticks = [data_date[i] if ((i%config[\"plots\"][\"xticks_interval\"]==0 and (num_data_points-i) > config[\"plots\"][\"xticks_interval\"]) or i==num_data_points-1) else None for i in range(num_data_points)] # make x ticks nice\n",
    "# x = np.arange(0,len(xticks))\n",
    "# plt.xticks(x, xticks, rotation='vertical')\n",
    "\n",
    "# Format the x axis\n",
    "locator = mdate.MonthLocator(interval=config[\"plots\"][\"xticks_interval\"])\n",
    "fmt = mdate.DateFormatter('%Y-%m')\n",
    "X = plt.gca().xaxis\n",
    "X.set_major_locator(locator)\n",
    "# Specify formatter\n",
    "X.set_major_formatter(fmt)\n",
    "plt.xticks(rotation='vertical')\n",
    "plt.xlim([data_date[0], data_date[-1]])\n",
    "\n",
    "plt.grid(visible=None, which='major', axis='y', linestyle='--')\n",
    "plt.legend()\n",
    "plt.show()"
   ]
  },
  {
   "cell_type": "code",
   "execution_count": null,
   "id": "96c5014a",
   "metadata": {},
   "outputs": [],
   "source": [
    "# prepare data for plotting the zoomed in view of the predicted prices (on validation set) vs. actual prices\n",
    "\n",
    "to_plot_data_y_val_subset = scaler.inverse_transform_y(data_y_val)\n",
    "to_plot_predicted_val = scaler.inverse_transform_y(predicted_val)\n",
    "to_plot_data_date = data_date[split_index+config[\"data\"][\"window_size\"]:]\n",
    "\n",
    "# plots\n",
    "\n",
    "fig = figure(figsize=(25, 5), dpi=80)\n",
    "fig.patch.set_facecolor((1.0, 1.0, 1.0))\n",
    "plt.plot(to_plot_data_date, to_plot_data_y_val_subset, label=\"Actual prices\", color=config[\"plots\"][\"color_actual\"])\n",
    "plt.plot(to_plot_data_date, to_plot_predicted_val, label=\"Predicted prices (validation)\", color=config[\"plots\"][\"color_pred_val\"])\n",
    "plt.title(\"Zoom in to examine predicted price on validation data portion\")\n",
    "# xticks = [to_plot_data_date[i] if ((i%int(config[\"plots\"][\"xticks_interval\"]/5)==0 and (len(to_plot_data_date)-i) > config[\"plots\"][\"xticks_interval\"]/6) or i==len(to_plot_data_date)-1) else None for i in range(len(to_plot_data_date))] # make x ticks nice\n",
    "# xs = np.arange(0,len(xticks))\n",
    "# plt.xticks(xs, xticks, rotation='vertical')\n",
    "\n",
    "# Format the x axis\n",
    "locator = mdate.MonthLocator(interval=config[\"plots\"][\"xticks_interval\"])\n",
    "fmt = mdate.DateFormatter('%Y-%m')\n",
    "X = plt.gca().xaxis\n",
    "X.set_major_locator(locator)\n",
    "# Specify formatter\n",
    "X.set_major_formatter(fmt)\n",
    "plt.xticks(rotation='vertical')\n",
    "\n",
    "plt.grid(visible=None, which='major', axis='y', linestyle='--')\n",
    "plt.legend()\n",
    "plt.show()"
   ]
  },
  {
   "cell_type": "code",
   "execution_count": null,
   "id": "8b99726d",
   "metadata": {},
   "outputs": [],
   "source": [
    "# Distrubution Suitcases between predicted and actual values\n",
    "\n",
    "true_value = data_y_train\n",
    "predicted_value = scaler.inverse_transform_y(predicted_train)\n",
    "\n",
    "plt.figure(figsize=(7,7))\n",
    "plt.scatter(true_value, predicted_value, c='crimson')\n",
    "# plt.yscale('log')\n",
    "# plt.xscale('log')\n",
    "\n",
    "p1 = max(max(predicted_value), max(true_value))\n",
    "p2 = min(min(predicted_value), min(true_value))\n",
    "plt.plot([p1, p2], [p1, p2], 'b-')\n",
    "plt.xlabel('True Values', fontsize=15)\n",
    "plt.ylabel('Predictions', fontsize=15)\n",
    "plt.axis('equal')\n",
    "plt.title('Training Prediction Correlation')\n",
    "plt.show()"
   ]
  },
  {
   "cell_type": "code",
   "execution_count": null,
   "id": "7fc1eb9c",
   "metadata": {},
   "outputs": [],
   "source": [
    "# Distrubution Suitcases between predicted and actual values\n",
    "\n",
    "true_value = data_y_val\n",
    "predicted_value = scaler.inverse_transform_y(predicted_val)\n",
    "\n",
    "plt.figure(figsize=(7,7))\n",
    "plt.scatter(true_value, predicted_value, c='crimson')\n",
    "# plt.yscale('log')\n",
    "# plt.xscale('log')\n",
    "\n",
    "p1 = max(max(predicted_value), max(true_value))\n",
    "p2 = min(min(predicted_value), min(true_value))\n",
    "plt.plot([p1, p2], [p1, p2], 'b-')\n",
    "plt.xlabel('True Values', fontsize=15)\n",
    "plt.ylabel('Predictions', fontsize=15)\n",
    "plt.axis('equal')\n",
    "plt.title('Validation Prediction Correlation')\n",
    "plt.show()"
   ]
  },
  {
   "cell_type": "markdown",
   "id": "7a2afdc4",
   "metadata": {},
   "source": [
    "# 9. Forecasting Future Stock Prices"
   ]
  },
  {
   "cell_type": "code",
   "execution_count": null,
   "id": "13a8b4e0",
   "metadata": {},
   "outputs": [],
   "source": [
    "# predict the closing price of the next trading day\n",
    "\n",
    "model.eval()\n",
    "\n",
    "# x = torch.tensor(data_x_unseen).float().to(config[\"training\"][\"device\"]).unsqueeze(0).unsqueeze(2) # this is the data type and shape required, [batch, sequence, feature]\n",
    "x = torch.tensor(data_x_unseen).float().to(config[\"training\"][\"device\"]).unsqueeze(0)\n",
    "prediction = model(x)\n",
    "prediction = prediction.cpu().detach().numpy()\n",
    "\n",
    "# prepare plots\n",
    "\n",
    "plot_range = 10\n",
    "to_plot_data_y_val = np.zeros(plot_range)\n",
    "to_plot_data_y_val_pred = np.zeros(plot_range)\n",
    "to_plot_data_y_test_pred = np.zeros(plot_range)\n",
    "\n",
    "to_plot_data_y_val[:plot_range-1] = scaler.inverse_transform_y(data_y_val)[-plot_range+1:]\n",
    "to_plot_data_y_val_pred[:plot_range-1] = scaler.inverse_transform_y(predicted_val)[-plot_range+1:]\n",
    "\n",
    "to_plot_data_y_test_pred[plot_range-1] = scaler.inverse_transform_y(prediction)\n",
    "\n",
    "to_plot_data_y_val = np.where(to_plot_data_y_val == 0, None, to_plot_data_y_val)\n",
    "to_plot_data_y_val_pred = np.where(to_plot_data_y_val_pred == 0, None, to_plot_data_y_val_pred)\n",
    "to_plot_data_y_test_pred = np.where(to_plot_data_y_test_pred == 0, None, to_plot_data_y_test_pred)\n",
    "\n",
    "# plot\n",
    "plot_date_test = data_date[-plot_range+1:]\n",
    "# for i in range(len(plot_date_test)):\n",
    "#     plot_date_test[i] = plot_date_test[i].strftime('%m/%d/%Y')\n",
    "next_week = plot_date_test[-1] + dt.timedelta(days=7)\n",
    "plot_date_test.append(next_week)\n",
    "\n",
    "print(len(plot_date_test) ,  len(to_plot_data_y_val))\n",
    "\n",
    "fig = figure(figsize=(25, 5), dpi=80)\n",
    "fig.patch.set_facecolor((1.0, 1.0, 1.0))\n",
    "plt.plot(plot_date_test, to_plot_data_y_val, label=\"Actual prices\", marker=\".\", markersize=10, color=config[\"plots\"][\"color_actual\"])\n",
    "plt.plot(plot_date_test, to_plot_data_y_val_pred, label=\"Past predicted prices\", marker=\".\", markersize=10, color=config[\"plots\"][\"color_pred_val\"])\n",
    "plt.plot(plot_date_test, to_plot_data_y_test_pred, label=\"Predicted price for next week\", marker=\".\", markersize=20, color=config[\"plots\"][\"color_pred_test\"])\n",
    "plt.title(\"Predicted Seattle gas price of the next week\")\n",
    "plt.grid(visible=None, which='major', axis='y', linestyle='--')\n",
    "plt.legend()\n",
    "plt.show()\n",
    "\n",
    "print(\"Predicted Seattle gas price of the next week:\", round(to_plot_data_y_test_pred[plot_range-1], 2))"
   ]
  },
  {
   "cell_type": "code",
   "execution_count": null,
   "id": "470882af",
   "metadata": {},
   "outputs": [],
   "source": []
  }
 ],
 "metadata": {
  "kernelspec": {
   "display_name": "Python 3 (ipykernel)",
   "language": "python",
   "name": "python3"
  },
  "language_info": {
   "codemirror_mode": {
    "name": "ipython",
    "version": 3
   },
   "file_extension": ".py",
   "mimetype": "text/x-python",
   "name": "python",
   "nbconvert_exporter": "python",
   "pygments_lexer": "ipython3",
   "version": "3.10.4"
  }
 },
 "nbformat": 4,
 "nbformat_minor": 5
}
